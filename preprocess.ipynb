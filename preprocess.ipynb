{
 "cells": [
  {
   "cell_type": "code",
   "execution_count": 40,
   "metadata": {},
   "outputs": [
    {
     "name": "stdout",
     "output_type": "stream",
     "text": [
      "3154510\n",
      "8674226\n",
      "394\n",
      "778\n",
      "statistic\n",
      "bundle\n",
      "== 1 : 83.57963004422527 %\n",
      "== 2 : 9.677900944706767 %\n",
      "== 3 : 3.0545434255459796 %\n",
      "== 4 : 1.375788456514737 %\n",
      "== 5 : 0.7322958843820763 %\n",
      "== 6 : 0.43762982426328295 %\n",
      "== 7 : 0.2806244614793297 %\n",
      "== 8 : 0.18844332624028934 %\n",
      "== 9 : 0.13269195430232045 %\n",
      ">= 10 : 0.5404516783399465 %\n",
      "user\n",
      "== 1 : 86.58507977467181 %\n",
      "== 2 : 8.210498619436933 %\n",
      "== 3 : 2.4250042003353927 %\n",
      "== 4 : 1.0465333760235345 %\n",
      "== 5 : 0.5575509350105088 %\n",
      "== 6 : 0.31805256600866694 %\n",
      "== 7 : 0.20776602388326554 %\n",
      "== 8 : 0.13720038928391415 %\n",
      "== 9 : 0.09906451398156925 %\n",
      ">= 10 : 0.5104432372409942 %\n"
     ]
    }
   ],
   "source": [
    "from gene_ii_asym import load_sp_mat\n",
    "\n",
    "iui = load_sp_mat('datasets/Youshu/iui_asym.npz')\n",
    "print(iui.getnnz())\n",
    "ibi = load_sp_mat('datasets/Youshu/ibi_asym.npz')\n",
    "print(ibi.getnnz())\n",
    "\n",
    "\n",
    "ii_b_max = int(ibi.max())\n",
    "print(ii_b_max)\n",
    "ii_u_max = int(iui.max())\n",
    "print(ii_u_max)\n",
    "\n",
    "\n",
    "# bundle\n",
    "print(\"statistic\")\n",
    "print(\"ii bundle\")\n",
    "for i in range(1, 10):\n",
    "    count = ibi.multiply(ibi == i).getnnz()\n",
    "    p = count / ibi.getnnz() * 100\n",
    "    print(\"==\", i, \":\", p, \"%\")\n",
    "\n",
    "count = ibi.multiply(ibi >= 10).getnnz()\n",
    "p = count / ibi.getnnz() * 100\n",
    "print(\">=\", 10, \":\", p, \"%\")\n",
    "\n",
    "\n",
    "# user\n",
    "print(\"ii user\")\n",
    "for i in range(1, 10):\n",
    "    count = iui.multiply(iui == i).getnnz()\n",
    "    p = count / iui.getnnz() * 100\n",
    "    print(\"==\", i, \":\", p, \"%\")\n",
    "\n",
    "count = iui.multiply(ibi >= 10).getnnz()\n",
    "p = count / ibi.getnnz() * 100\n",
    "print(\">=\", 10, \":\", p, \"%\")"
   ]
  },
  {
   "cell_type": "code",
   "execution_count": 41,
   "metadata": {},
   "outputs": [
    {
     "name": "stdout",
     "output_type": "stream",
     "text": [
      "(32770, 32770) (32770, 32770)\n"
     ]
    }
   ],
   "source": [
    "print(ibi.shape, iui.shape)"
   ]
  },
  {
   "cell_type": "code",
   "execution_count": 42,
   "metadata": {},
   "outputs": [
    {
     "data": {
      "text/plain": [
       "(<32770x32770 sparse matrix of type '<class 'numpy.float64'>'\n",
       " \twith 11419 stored elements in Compressed Sparse Column format>,\n",
       " <32770x32770 sparse matrix of type '<class 'numpy.float64'>'\n",
       " \twith 15176 stored elements in Compressed Sparse Column format>)"
      ]
     },
     "execution_count": 42,
     "metadata": {},
     "output_type": "execute_result"
    }
   ],
   "source": [
    "from sklearn.preprocessing import normalize\n",
    "import scipy.sparse as sp\n",
    "import numpy as np\n",
    "\n",
    "n_items = ibi.shape[0]\n",
    "ibi_filter = ibi >= 2\n",
    "iui_filter = iui >= 2\n",
    "\n",
    "# mask all diag weight\n",
    "diag_filter_i = sp.coo_matrix(\n",
    "    (np.ones(n_items), ([i for i in range(0, n_items)], [i for i in range(0, n_items)])), \n",
    "    shape=ibi.shape).tocsr()\n",
    "\n",
    "fil_iui = iui.multiply(iui_filter)\n",
    "fil_ibi = ibi.multiply(ibi_filter)\n",
    "\n",
    "# mask all diag of filtered matrix\n",
    "diag_filter_iui = fil_iui.multiply(diag_filter_i)\n",
    "diag_filter_ibi = fil_ibi.multiply(diag_filter_i)\n",
    "\n",
    "diag_filter_iui, diag_filter_ibi"
   ]
  },
  {
   "cell_type": "code",
   "execution_count": 44,
   "metadata": {},
   "outputs": [
    {
     "name": "stdout",
     "output_type": "stream",
     "text": [
      "15176\n",
      "11419\n"
     ]
    }
   ],
   "source": [
    "print(diag_filter_ibi.getnnz())\n",
    "print(diag_filter_iui.getnnz())\n"
   ]
  },
  {
   "cell_type": "code",
   "execution_count": 46,
   "metadata": {},
   "outputs": [
    {
     "name": "stdout",
     "output_type": "stream",
     "text": [
      "1424340\n",
      "423175\n"
     ]
    }
   ],
   "source": [
    "print(fil_ibi.getnnz())\n",
    "print(fil_iui.getnnz())\n"
   ]
  },
  {
   "cell_type": "code",
   "execution_count": 47,
   "metadata": {},
   "outputs": [
    {
     "data": {
      "text/plain": [
       "(1409164, 411756)"
      ]
     },
     "execution_count": 47,
     "metadata": {},
     "output_type": "execute_result"
    }
   ],
   "source": [
    "neighbor_ibi = fil_ibi - diag_filter_ibi.tocsc()\n",
    "neighbor_iui = fil_iui - diag_filter_iui.tocsc() \n",
    "neighbor_ibi.getnnz(), neighbor_iui.getnnz() # -> match"
   ]
  },
  {
   "cell_type": "code",
   "execution_count": 48,
   "metadata": {},
   "outputs": [],
   "source": [
    "n_ibi = normalize(neighbor_ibi, norm='l1', axis=1)\n",
    "n_iui = normalize(neighbor_iui, norm='l1', axis=1)"
   ]
  },
  {
   "cell_type": "code",
   "execution_count": 49,
   "metadata": {},
   "outputs": [],
   "source": [
    "sp.save_npz(\"datasets/Youshu/n_neigh_ibi.npz\", n_ibi)\n",
    "sp.save_npz(\"datasets/Youshu/n_neigh_iui.npz\", n_iui)"
   ]
  },
  {
   "cell_type": "code",
   "execution_count": 1,
   "metadata": {},
   "outputs": [
    {
     "name": "stdout",
     "output_type": "stream",
     "text": [
      "  (1, 5793)\t1.0\n",
      "  (2, 308)\t0.005847953216374269\n",
      "  (2, 576)\t0.005847953216374269\n",
      "  (2, 893)\t0.005847953216374269\n",
      "  (2, 1108)\t0.005847953216374269\n",
      "  (2, 1194)\t0.005847953216374269\n",
      "  (2, 1313)\t0.005847953216374269\n",
      "  (2, 1526)\t0.008771929824561403\n",
      "  (2, 2192)\t0.005847953216374269\n",
      "  (2, 2214)\t0.005847953216374269\n",
      "  (2, 3438)\t0.005847953216374269\n",
      "  (2, 3485)\t0.005847953216374269\n",
      "  (2, 4200)\t0.005847953216374269\n",
      "  (2, 4204)\t0.005847953216374269\n",
      "  (2, 4316)\t0.005847953216374269\n",
      "  (2, 4352)\t0.005847953216374269\n",
      "  (2, 4872)\t0.005847953216374269\n",
      "  (2, 4960)\t0.005847953216374269\n",
      "  (2, 5212)\t0.005847953216374269\n",
      "  (2, 5255)\t0.008771929824561403\n",
      "  (2, 5648)\t0.005847953216374269\n",
      "  (2, 5674)\t0.011695906432748537\n",
      "  (2, 6083)\t0.005847953216374269\n",
      "  (2, 6618)\t0.005847953216374269\n",
      "  (2, 6740)\t0.008771929824561403\n",
      "  :\t:\n",
      "  (32761, 20319)\t0.024096385542168676\n",
      "  (32761, 21408)\t0.024096385542168676\n",
      "  (32761, 23871)\t0.03614457831325301\n",
      "  (32761, 25687)\t0.04819277108433735\n",
      "  (32761, 26352)\t0.024096385542168676\n",
      "  (32761, 26944)\t0.024096385542168676\n",
      "  (32761, 27380)\t0.024096385542168676\n",
      "  (32761, 28932)\t0.024096385542168676\n",
      "  (32761, 29410)\t0.024096385542168676\n",
      "  (32761, 31313)\t0.024096385542168676\n",
      "  (32761, 32698)\t0.024096385542168676\n",
      "  (32764, 2478)\t0.1111111111111111\n",
      "  (32764, 9713)\t0.1111111111111111\n",
      "  (32764, 10467)\t0.1111111111111111\n",
      "  (32764, 13207)\t0.1111111111111111\n",
      "  (32764, 15225)\t0.1111111111111111\n",
      "  (32764, 15930)\t0.1111111111111111\n",
      "  (32764, 22611)\t0.1111111111111111\n",
      "  (32764, 25257)\t0.1111111111111111\n",
      "  (32764, 28230)\t0.1111111111111111\n",
      "  (32768, 2521)\t0.2\n",
      "  (32768, 2789)\t0.2\n",
      "  (32768, 11780)\t0.2\n",
      "  (32768, 18549)\t0.2\n",
      "  (32768, 31753)\t0.2\n"
     ]
    }
   ],
   "source": [
    "# # test load\n",
    "# from gene_ii_asym import load_sp_mat\n",
    "\n",
    "# n_ibi = load_sp_mat(\"datasets/Youshu/n_neigh_ibi.npz\")\n",
    "# print(n_ibi)"
   ]
  }
 ],
 "metadata": {
  "kernelspec": {
   "display_name": "base",
   "language": "python",
   "name": "python3"
  },
  "language_info": {
   "codemirror_mode": {
    "name": "ipython",
    "version": 3
   },
   "file_extension": ".py",
   "mimetype": "text/x-python",
   "name": "python",
   "nbconvert_exporter": "python",
   "pygments_lexer": "ipython3",
   "version": "3.11.4"
  }
 },
 "nbformat": 4,
 "nbformat_minor": 2
}
